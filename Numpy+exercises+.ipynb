{
 "cells": [
  {
   "cell_type": "code",
   "execution_count": 22,
   "metadata": {},
   "outputs": [
    {
     "name": "stdout",
     "output_type": "stream",
     "text": [
      "1\n",
      "2\n",
      "3\n",
      "4\n",
      "5\n"
     ]
    }
   ],
   "source": [
    " #Q1 Write a Python program to create an array of 5 integers and display the array items. \n",
    "    # Access individual element through indexes\n",
    "import numpy as np #Import numpy with an alias of np\n",
    "    \n",
    "arr = np.array([1,2,3,4,5]) #Creating an array\n",
    "\n",
    "#for x in arr:\n",
    "#    print(x)\n",
    "\n",
    "for x in range(5): #Loop to call each index in first element\n",
    "    print(arr[x])"
   ]
  },
  {
   "cell_type": "code",
   "execution_count": 83,
   "metadata": {},
   "outputs": [
    {
     "name": "stdout",
     "output_type": "stream",
     "text": [
      "[5 4 3 2 1]\n"
     ]
    }
   ],
   "source": [
    "#Q2 Write a Python program to reverse the order of the items in the array\n",
    "\n",
    "#Function that reverses order by using slicing\n",
    "def reverse(arrayO):\n",
    "    result = arrayO[::-1]#reverse the order of array and store it into result\n",
    "    \n",
    "    return result\n",
    "    \n",
    "print(reverse(arr)) #Use function to get reverse order\n"
   ]
  },
  {
   "cell_type": "code",
   "execution_count": 84,
   "metadata": {},
   "outputs": [
    {
     "name": "stdout",
     "output_type": "stream",
     "text": [
      "Dim: 2\n",
      "Shape: (4, 2)\n",
      "Length: 4\n"
     ]
    },
    {
     "data": {
      "text/plain": [
       "array([[1, 2],\n",
       "       [3, 4],\n",
       "       [5, 6],\n",
       "       [7, 8]])"
      ]
     },
     "execution_count": 84,
     "metadata": {},
     "output_type": "execute_result"
    }
   ],
   "source": [
    "#Q3 Create a 4X2 integer array and Prints its attributes \n",
    "#The shape of an array.\n",
    "#Array dimensions.\n",
    "#The Length of each element of the array in bytes.\n",
    "\n",
    "#Function that takes an array and provides the dimension, shape, and length of the array.\n",
    "def att_print(arrayO):\n",
    "    print(\"Dim:\",arrayO.ndim)#Returns dimension\n",
    "    print(\"Shape:\", arrayO.shape)#Returns Shape\n",
    "    print(\"Length:\", arrayO.itemsize)#Returns length in bytes\n",
    "\n",
    "\n",
    "arr2 = np.array([[1,2], [3,4], [5,6],[7,8]])#Declare array\n",
    "att_print(arr2)#Use function to print attributes\n",
    "arr2"
   ]
  },
  {
   "cell_type": "code",
   "execution_count": 82,
   "metadata": {},
   "outputs": [
    {
     "name": "stdout",
     "output_type": "stream",
     "text": [
      "[33 66 99]\n"
     ]
    }
   ],
   "source": [
    "#Q4 return array of items in the third column from all rows in the following numpy array\n",
    "# ([[11 ,22, 33], [44, 55, 66], [77, 88, 99]])\n",
    "\n",
    "arr3 = np.array([[11 ,22, 33], [44, 55, 66], [77, 88, 99]]) #Creating array\n",
    "print(arr3[:,2])#Use slicing to grab all elements and print out index 2 of each dimension\n"
   ]
  },
  {
   "cell_type": "code",
   "execution_count": 78,
   "metadata": {},
   "outputs": [
    {
     "data": {
      "text/plain": [
       "array([[20, 39, 33],\n",
       "       [25, 25, 28]])"
      ]
     },
     "execution_count": 78,
     "metadata": {},
     "output_type": "execute_result"
    }
   ],
   "source": [
    "#Q5 Create a result array by adding the following two NumPy arrays\n",
    "# arrayOne = numpy.array([[5, 6, 9], [21 ,18, 27]])\n",
    "# arrayTwo = numpy.array([[15 ,33, 24], [4 ,7, 1]])\n",
    "\n",
    "arrayOne = np.array([[5, 6, 9], [21 ,18, 27]])\n",
    "arrayTwo = np.array([[15 ,33, 24], [4 ,7, 1]])\n",
    "\n",
    "arrayThree = np.add(arrayOne, arrayTwo) #Call add method to combine both numpy arrays\n",
    "arrayThree"
   ]
  },
  {
   "cell_type": "code",
   "execution_count": 49,
   "metadata": {},
   "outputs": [
    {
     "data": {
      "text/plain": [
       "array([[ 5,  6,  9],\n",
       "       [18, 21, 27],\n",
       "       [15, 24, 33],\n",
       "       [ 1,  4,  7]])"
      ]
     },
     "execution_count": 49,
     "metadata": {},
     "output_type": "execute_result"
    }
   ],
   "source": [
    "#Q6 Sort the previous array\n",
    "arrayThree.sort() #Call sort method to sort the array\n",
    "arrayThree"
   ]
  },
  {
   "cell_type": "code",
   "execution_count": null,
   "metadata": {},
   "outputs": [],
   "source": []
  }
 ],
 "metadata": {
  "kernelspec": {
   "display_name": "Python 3",
   "language": "python",
   "name": "python3"
  },
  "language_info": {
   "codemirror_mode": {
    "name": "ipython",
    "version": 3
   },
   "file_extension": ".py",
   "mimetype": "text/x-python",
   "name": "python",
   "nbconvert_exporter": "python",
   "pygments_lexer": "ipython3",
   "version": "3.8.5"
  }
 },
 "nbformat": 4,
 "nbformat_minor": 4
}
