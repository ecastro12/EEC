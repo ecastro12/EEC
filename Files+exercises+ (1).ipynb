{
 "cells": [
  {
   "cell_type": "code",
   "execution_count": 30,
   "metadata": {},
   "outputs": [
    {
     "name": "stdout",
     "output_type": "stream",
     "text": [
      "['This is a line!\\n']\n"
     ]
    }
   ],
   "source": [
    "#Q1 Create a text file called mytxt.txt\n",
    "# Save the following content in the text file:\n",
    "# \"In this section, we will use Python's built-in open function to create a file object, and obtain the data from a \"txt\" file.\n",
    "# We will use Python's open function to get a file object. \n",
    "# We can apply a method to that object to read data from the file. We use the open function. \n",
    "# The first argument is the file path, the second parameter is the mode.\"\n",
    "\n",
    "with open(\"mytxt.txt\", \"w\") as mFile:\n",
    "    mFile.write(\"This is a line!\\n\")\n",
    "\n",
    "with open(\"mytxt.txt\", \"r\") as mFile:\n",
    "    print(mFile.readlines())"
   ]
  },
  {
   "cell_type": "code",
   "execution_count": 31,
   "metadata": {},
   "outputs": [
    {
     "name": "stdout",
     "output_type": "stream",
     "text": [
      "['This is a line!\\n']\n"
     ]
    }
   ],
   "source": [
    "#Q1 Write a Python program to read the entire mytxt file\n",
    "\n",
    "def read_F(fName):\n",
    "    with open(fName, \"r\") as readF:\n",
    "        print(readF.readlines())\n",
    "        \n",
    "read_F(\"mytxt.txt\")"
   ]
  },
  {
   "cell_type": "code",
   "execution_count": 32,
   "metadata": {},
   "outputs": [
    {
     "data": {
      "text/plain": [
       "['This is the first line!\\n',\n",
       " 'This is the second line!\\n',\n",
       " 'This is the third line!']"
      ]
     },
     "execution_count": 32,
     "metadata": {},
     "output_type": "execute_result"
    }
   ],
   "source": [
    "#Q2 Write a Python program to read last 3 lines of mytxt file\n",
    "with open(\"mytxt.txt\", \"w\") as readF:\n",
    "     readF.write(\"This is the first line!\\nThis is the second line!\\nThis is the third line!\")\n",
    "\n",
    "\n",
    "def readL(name):\n",
    "    with open(name, \"r\") as readF:\n",
    "        list1 = readF.readlines()\n",
    "        return list1[-3:]\n",
    "    \n",
    "readL(\"mytxt.txt\")"
   ]
  },
  {
   "cell_type": "code",
   "execution_count": 33,
   "metadata": {},
   "outputs": [
    {
     "data": {
      "text/plain": [
       "['This is the second line!\\n', 'This is the third line!']"
      ]
     },
     "execution_count": 33,
     "metadata": {},
     "output_type": "execute_result"
    }
   ],
   "source": [
    "#Q3 Write a Python program to read last n lines of mytxt file [Hint: write a function]\n",
    "\n",
    "def readNL(name, n):\n",
    "    with open(name, \"r\") as readF:\n",
    "        list1 = readF.readlines()\n",
    "        return list1[-n:]\n",
    "    \n",
    "readNL(\"mytxt.txt\", 2)"
   ]
  },
  {
   "cell_type": "code",
   "execution_count": 34,
   "metadata": {},
   "outputs": [
    {
     "name": "stdout",
     "output_type": "stream",
     "text": [
      "3\n"
     ]
    }
   ],
   "source": [
    "#Q4 count the number of lines in mytxt file \n",
    "\n",
    "with open(\"mytxt.txt\", \"r\") as file:\n",
    "    count = file.read().split(\"\\n\")\n",
    "    print(len(count))"
   ]
  },
  {
   "cell_type": "code",
   "execution_count": 35,
   "metadata": {},
   "outputs": [],
   "source": [
    "#Q5 Write a Python program to generate 26 text files named A.txt, B.txt,C.txt ........ Z.txt\n",
    "\n",
    "import string #We need to import the string library for this one\n",
    "\n",
    "def gen_files():\n",
    "    num_F = 26\n",
    "    string1 = string.ascii_uppercase\n",
    "    a_list = list(string1) #Creates a list of the string of the uppercase alphabet\n",
    "    x = 0\n",
    "    \n",
    "    while x < num_F: #Looks to generate 26 different files.\n",
    "        with open(\"{name}.txt\".format(name = a_list[x]), \"w\"):\n",
    "            x+=1\n",
    "\n",
    "gen_files() #This will generate 26 files up to Z in the title"
   ]
  },
  {
   "cell_type": "code",
   "execution_count": 36,
   "metadata": {},
   "outputs": [
    {
     "data": {
      "text/plain": [
       "['This is the second line!\\n', 'This is the third line!\\n', 'End of File']"
      ]
     },
     "execution_count": 36,
     "metadata": {},
     "output_type": "execute_result"
    }
   ],
   "source": [
    "#Q6 Write a Python program to append \"End of file\" to mytxt file and display the text \n",
    "\n",
    "def append_F(fName):\n",
    "    with open(fName, \"a\") as file: #opens in read and append mode\n",
    "        file.write(\"\\nEnd of File\")\n",
    "        \n",
    "append_F(\"mytxt.txt\")\n",
    "readL(\"mytxt.txt\") #We recall the previous function to tell us if the append_F function worked."
   ]
  },
  {
   "cell_type": "code",
   "execution_count": 40,
   "metadata": {},
   "outputs": [
    {
     "name": "stdout",
     "output_type": "stream",
     "text": [
      "['This is the first line!This is the second line!This is the third line!End of File']\n"
     ]
    }
   ],
   "source": [
    "#Q7 Write a Python program to remove newline characters from mytxt file\n",
    "\n",
    "def remove_N(fName):\n",
    "    with open(fName, \"r\") as file1, open(\"output.txt\", \"r+\") as file2: #r+ opens in read and write mode\n",
    "        result = file1.read() # we set a temporary variable to assign file1 input\n",
    "        result = result.replace(\"\\n\", \"\") # we then do the necessary replacement of the characters\n",
    "        file2.write(result) #we write the final results into the second file\n",
    "        \n",
    "        print(file2.readlines()) #we print the results to ensure that it was done properly.\n",
    "            \n",
    "remove_N(\"mytxt.txt\")"
   ]
  },
  {
   "cell_type": "code",
   "execution_count": 47,
   "metadata": {},
   "outputs": [
    {
     "name": "stdout",
     "output_type": "stream",
     "text": [
      "Longest word in file is: second\n"
     ]
    }
   ],
   "source": [
    "# Q8 Write a python program to find the longest word in mytxt file\n",
    "\n",
    "def longest(fName):\n",
    "    with open(fName, \"r\") as file:\n",
    "        word_List = file.read().split() #This splits up the file into words\n",
    "        maxL = len(max(word_List, key=len)) #This finds the longest word length but sorts it out my len being the key\n",
    "        max_W = \"\"\n",
    "        \n",
    "        for word in word_List:\n",
    "            if len(word) == maxL:\n",
    "                max_W = max_W + word\n",
    "        \n",
    "        return max_W\n",
    "        \n",
    "print(\"Longest word in file is:\", longest(\"mytxt.txt\"))"
   ]
  },
  {
   "cell_type": "code",
   "execution_count": 58,
   "metadata": {},
   "outputs": [
    {
     "name": "stdout",
     "output_type": "stream",
     "text": [
      "Number: 0\n"
     ]
    }
   ],
   "source": [
    "#Q9  Write a Python program to count the frequency \"We\" in mytxt file\n",
    "\n",
    "def word_C(name):\n",
    "        word = \"We\"\n",
    "        with open(name,\"r\") as file:\n",
    "                c = file.read().count(word) #We can simple use the count method to look for 'We'\n",
    "                return c\n",
    "\n",
    "print(\"Number:\",word_C(\"mytxt.txt\"))"
   ]
  },
  {
   "cell_type": "code",
   "execution_count": 165,
   "metadata": {},
   "outputs": [],
   "source": [
    "#Q10 Write a Python program to build a sign_Up and login forms for users. Your program should validate/authenticate entered credentials for existing users or create new accounts for new users\n",
    "#1 Create \"Credentials.txt\" file\n",
    "#2 Add the following information into your Credentials.txt file <Name, Password>\n",
    "    # Sarah,12ssr\n",
    "    # Lisa,pass\n",
    "    # Donna,D00N\n",
    "#3 Create login function that takes two inputs (name,password)\n",
    "    #3.1 Ask the user to enter their username and password\n",
    "    #3.2 search if the names exist in the Credentials.txt file\n",
    "        #3.2.1 if the name was found, check if the password is correct\n",
    "        #3.2.2 return \"Welcome <persons name> if the name and password were correct\"\n",
    "        #3.2.3 else return \"wrong name or password\"\n",
    "    #3.2 if the name doesn't exist return \"your name doesn't exist, please create a new account\"\n",
    "#4 Create sign_Up function that takes two inputs(newName,newPassword)\n",
    "    #Ask user to enter their name and password\n",
    "    #append the new information into the Credentials.txt file, follow the same format \"name,password\"\n",
    "#5 Test your program by logging in using the new account\n",
    "\n",
    "def initiate_program(fName): #This function simply initiates the file with the basic information for the file\n",
    "        with open(fName, \"w\") as file:\n",
    "            file.write(\"Sarah,12ssr\\nLisa,pass\\nDonna,D00N\")\n",
    "\n",
    "initiate_program(\"Credentials.txt\")"
   ]
  },
  {
   "cell_type": "code",
   "execution_count": 166,
   "metadata": {},
   "outputs": [
    {
     "name": "stdin",
     "output_type": "stream",
     "text": [
      "Please input your username and password.\n",
      "Username:  Sarah\n",
      "Password: ·····\n"
     ]
    },
    {
     "name": "stdout",
     "output_type": "stream",
     "text": [
      "Welcome Sarah\n"
     ]
    }
   ],
   "source": [
    "import getpass #We're importing this to hide the users password input.\n",
    "\n",
    "#Function to login\n",
    "def login():\n",
    "    username = input(\"Please input your username and password.\\nUsername: \")\n",
    "    password = getpass.getpass(\"Password:\") #uses getpass to HIDE the password input.\n",
    "    dic = dic_initiate()\n",
    "   \n",
    "    if dic.get(username) == None:\n",
    "        print(\"Your name doesn't exist, please create a new account.\")\n",
    "            \n",
    "    elif dic.get(username) == password: # This resolved Q3. Confirms if the username and password is correct in one go!\n",
    "        return print(\"Welcome\", username)\n",
    "    else:\n",
    "        print(\"Wrong username or Password.\")        \n",
    "\n",
    "#Function to sign up\n",
    "def sign_Up():  \n",
    "    username = input(\"Please input your username and password for a new account!\\nNew Username: \")\n",
    "    password = getpass.getpass(\"New Password:\") #uses getpass to HIDE the password input.\n",
    "    combo = \"\\n\" + username + \",\" + password + \"\\n\"\n",
    "    \n",
    "    dic1 = dic_initiate()\n",
    "    \n",
    "    with open(\"Credentials.txt\", \"a\") as file:\n",
    "        if dic1.get(username) == None:\n",
    "            file.write(combo)\n",
    "            return print(\"New account added!\")\n",
    "        else:\n",
    "            print(\"Username has already been taken! Please try again.\")\n",
    "    \n",
    "\n",
    "#This is to avoid repetitive code. Initiates a dictionary of credentials\n",
    "def dic_initiate():\n",
    "    dic = {} #dictionary to store user data from text file\n",
    "    \n",
    "    with open(\"Credentials.txt\", \"r\") as file:\n",
    "        \n",
    "        for line in file: #we store these into a dictionary with this loop\n",
    "            key, value = line.split(\",\") #split based on \",\"\n",
    "            dic[key] = value.strip(\"\\n\") #Stripping the \\n as it'll mess with comparison\n",
    "            \n",
    "    return dic\n",
    "\n",
    "login()"
   ]
  },
  {
   "cell_type": "code",
   "execution_count": 167,
   "metadata": {},
   "outputs": [
    {
     "name": "stdin",
     "output_type": "stream",
     "text": [
      "Please input your username and password for a new account!\n",
      "New Username:  Edward\n",
      "New Password: ·····\n"
     ]
    },
    {
     "name": "stdout",
     "output_type": "stream",
     "text": [
      "New account added!\n"
     ]
    }
   ],
   "source": [
    "sign_Up()"
   ]
  },
  {
   "cell_type": "code",
   "execution_count": null,
   "metadata": {},
   "outputs": [],
   "source": []
  }
 ],
 "metadata": {
  "kernelspec": {
   "display_name": "Python 3",
   "language": "python",
   "name": "python3"
  },
  "language_info": {
   "codemirror_mode": {
    "name": "ipython",
    "version": 3
   },
   "file_extension": ".py",
   "mimetype": "text/x-python",
   "name": "python",
   "nbconvert_exporter": "python",
   "pygments_lexer": "ipython3",
   "version": "3.8.5"
  }
 },
 "nbformat": 4,
 "nbformat_minor": 4
}
