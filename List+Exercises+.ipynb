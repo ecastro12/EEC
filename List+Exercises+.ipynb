{
 "cells": [
  {
   "cell_type": "code",
   "execution_count": 62,
   "metadata": {},
   "outputs": [
    {
     "data": {
      "text/plain": [
       "('Adam Murji',\n",
       " 'Ajinkya Patil',\n",
       " 'Akash Makkar',\n",
       " 'Alka Savani',\n",
       " 'Chloe Erazua',\n",
       " 'Dami Brown',\n",
       " 'Divya Mani Devasani',\n",
       " 'Edward Castro',\n",
       " 'Gaurav Dhuria',\n",
       " 'Gilmara Sales',\n",
       " 'Imara Dhalla',\n",
       " 'Jainam Suthar',\n",
       " 'Leul Abebe',\n",
       " 'Mehrnaz Hooshmand',\n",
       " 'Muhammad Abtasham',\n",
       " 'Olaolusubomi A.',\n",
       " 'Pray V.',\n",
       " 'Riley Pearson',\n",
       " 'Rasha E.',\n",
       " 'Pray V',\n",
       " 'Romita R.',\n",
       " 'Saloni M.',\n",
       " 'Saman A.',\n",
       " 'Santhiya P.',\n",
       " 'Sidney D',\n",
       " 'Sowjanya K.',\n",
       " 'Suganya A.',\n",
       " 'Sunint B.',\n",
       " 'Temitope O.',\n",
       " 'Tony Wang',\n",
       " 'Ulan S.',\n",
       " 'Winnie M.',\n",
       " 'Jerry',\n",
       " 'Sum Dood',\n",
       " 'Jennifer Lopez',\n",
       " 'Elon Musk',\n",
       " 'Sum Ting Wong',\n",
       " 'John Dingleberry',\n",
       " 'Speed Racer')"
      ]
     },
     "execution_count": 62,
     "metadata": {},
     "output_type": "execute_result"
    }
   ],
   "source": [
    "#Q1 Create a tuple with all participant names in the JDA program\n",
    "\n",
    "members = (\"Adam Murji\", \"Ajinkya Patil\", \"Akash Makkar\", \"Alka Savani\", \"Chloe Erazua\", \"Dami Brown\", \"Divya Mani Devasani\", \"Edward Castro\", \"Gaurav Dhuria\", \"Gilmara Sales\", \"Imara Dhalla\", \"Jainam Suthar\",\n",
    "         \"Leul Abebe\", \"Mehrnaz Hooshmand\", \"Muhammad Abtasham\", \"Olaolusubomi A.\", \"Pray V.\", \"Riley Pearson\", \"Rasha E.\", \"Pray V\", \"Romita R.\", \"Saloni M.\",\n",
    "          \"Saman A.\", \"Santhiya P.\", \"Sidney D\", \"Sowjanya K.\", \"Suganya A.\", \"Sunint B.\", \"Temitope O.\", \"Tony Wang\", \"Ulan S.\", \"Winnie M.\", \"Jerry\", \"Sum Dood\", \"Jennifer Lopez\", \"Elon Musk\", \"Sum Ting Wong\", \"John Dingleberry\", \"Speed Racer\")\n",
    "members"
   ]
  },
  {
   "cell_type": "code",
   "execution_count": 63,
   "metadata": {},
   "outputs": [
    {
     "data": {
      "text/plain": [
       "['Adam Murji',\n",
       " 'Ajinkya Patil',\n",
       " 'Akash Makkar',\n",
       " 'Alka Savani',\n",
       " 'Chloe Erazua',\n",
       " 'Dami Brown',\n",
       " 'Divya Mani Devasani',\n",
       " 'Edward Castro',\n",
       " 'Gaurav Dhuria',\n",
       " 'Gilmara Sales',\n",
       " 'Imara Dhalla',\n",
       " 'Jainam Suthar',\n",
       " 'Leul Abebe',\n",
       " 'Mehrnaz Hooshmand',\n",
       " 'Muhammad Abtasham',\n",
       " 'Olaolusubomi A.',\n",
       " 'Pray V.',\n",
       " 'Riley Pearson',\n",
       " 'Rasha E.',\n",
       " 'Pray V',\n",
       " 'Romita R.',\n",
       " 'Saloni M.',\n",
       " 'Saman A.',\n",
       " 'Santhiya P.',\n",
       " 'Sidney D',\n",
       " 'Sowjanya K.',\n",
       " 'Suganya A.',\n",
       " 'Sunint B.',\n",
       " 'Temitope O.',\n",
       " 'Tony Wang',\n",
       " 'Ulan S.',\n",
       " 'Winnie M.',\n",
       " 'Jerry',\n",
       " 'Sum Dood',\n",
       " 'Jennifer Lopez',\n",
       " 'Elon Musk',\n",
       " 'Sum Ting Wong',\n",
       " 'John Dingleberry',\n",
       " 'Speed Racer']"
      ]
     },
     "execution_count": 63,
     "metadata": {},
     "output_type": "execute_result"
    }
   ],
   "source": [
    "#Q2 Convert the tuple into a list called pps_L\n",
    "pps_l = list(members)\n",
    "pps_l"
   ]
  },
  {
   "cell_type": "code",
   "execution_count": 64,
   "metadata": {},
   "outputs": [
    {
     "data": {
      "text/plain": [
       "39"
      ]
     },
     "execution_count": 64,
     "metadata": {},
     "output_type": "execute_result"
    }
   ],
   "source": [
    "#Q3 What is the length of your list \n",
    "len(pps_l)"
   ]
  },
  {
   "cell_type": "code",
   "execution_count": 65,
   "metadata": {},
   "outputs": [
    {
     "name": "stdout",
     "output_type": "stream",
     "text": [
      "Alka Savani\n",
      "Dami Brown\n",
      "Muhammad Abtasham\n",
      "Ulan S.\n",
      "Speed Racer\n"
     ]
    }
   ],
   "source": [
    "#Q4 Find the values stored in indexes [3],[5],[14],[30],[38]\n",
    "print(pps_l[3])\n",
    "print(pps_l[5])\n",
    "print(pps_l[14])\n",
    "print(pps_l[30])\n",
    "print(pps_l[38])"
   ]
  },
  {
   "cell_type": "code",
   "execution_count": 66,
   "metadata": {},
   "outputs": [
    {
     "data": {
      "text/plain": [
       "False"
      ]
     },
     "execution_count": 66,
     "metadata": {},
     "output_type": "execute_result"
    }
   ],
   "source": [
    "#Q5 Check if \"Sarah\" is in the list\n",
    "\"Sarah\" in pps_l"
   ]
  },
  {
   "cell_type": "code",
   "execution_count": 67,
   "metadata": {},
   "outputs": [
    {
     "data": {
      "text/plain": [
       "True"
      ]
     },
     "execution_count": 67,
     "metadata": {},
     "output_type": "execute_result"
    }
   ],
   "source": [
    "#Q6 Add \"Sarah\" to your list\n",
    "pps_l.append(\"Sarah\")\n",
    "\n",
    "\"Sarah\" in pps_l"
   ]
  },
  {
   "cell_type": "code",
   "execution_count": 68,
   "metadata": {},
   "outputs": [
    {
     "data": {
      "text/plain": [
       "False"
      ]
     },
     "execution_count": 68,
     "metadata": {},
     "output_type": "execute_result"
    }
   ],
   "source": [
    "#Q7 Check if \"Bashir\" is in the list\n",
    "\"Bashir\" in pps_l"
   ]
  },
  {
   "cell_type": "code",
   "execution_count": 69,
   "metadata": {},
   "outputs": [
    {
     "data": {
      "text/plain": [
       "True"
      ]
     },
     "execution_count": 69,
     "metadata": {},
     "output_type": "execute_result"
    }
   ],
   "source": [
    "#Q9 Add \"Bashir\" to your list\n",
    "pps_l.append(\"Bashir\")\n",
    "\"Bashir\" in pps_l"
   ]
  },
  {
   "cell_type": "code",
   "execution_count": 70,
   "metadata": {},
   "outputs": [
    {
     "data": {
      "text/plain": [
       "39"
      ]
     },
     "execution_count": 70,
     "metadata": {},
     "output_type": "execute_result"
    }
   ],
   "source": [
    "#Q10 Find the index of the element \"Sarah\" in the list\n",
    "index = pps_l.index(\"Sarah\")\n",
    "index"
   ]
  },
  {
   "cell_type": "code",
   "execution_count": 71,
   "metadata": {},
   "outputs": [
    {
     "data": {
      "text/plain": [
       "'Instructor'"
      ]
     },
     "execution_count": 71,
     "metadata": {},
     "output_type": "execute_result"
    }
   ],
   "source": [
    "#Q11 Change the value of the index in Q10 from \"Sarah\" to \"Instructor\"\n",
    "pps_l[index] = \"Instructor\"\n",
    "pps_l[index]"
   ]
  },
  {
   "cell_type": "code",
   "execution_count": 72,
   "metadata": {},
   "outputs": [
    {
     "data": {
      "text/plain": [
       "40"
      ]
     },
     "execution_count": 72,
     "metadata": {},
     "output_type": "execute_result"
    }
   ],
   "source": [
    "#Q12 Find the index of the element \"Bashir\" in the list\n",
    "pps_l.index(\"Bashir\")"
   ]
  },
  {
   "cell_type": "code",
   "execution_count": 73,
   "metadata": {},
   "outputs": [
    {
     "data": {
      "text/plain": [
       "'Peer-Mentor'"
      ]
     },
     "execution_count": 73,
     "metadata": {},
     "output_type": "execute_result"
    }
   ],
   "source": [
    "#Q13 Change the value of the index in Q12 from \"Bashir\" to \"Peer-Mentor\"\n",
    "pps_l[index] = \"Peer-Mentor\"\n",
    "pps_l[index]"
   ]
  },
  {
   "cell_type": "code",
   "execution_count": null,
   "metadata": {},
   "outputs": [],
   "source": []
  }
 ],
 "metadata": {
  "kernelspec": {
   "display_name": "Python 3",
   "language": "python",
   "name": "python3"
  },
  "language_info": {
   "codemirror_mode": {
    "name": "ipython",
    "version": 3
   },
   "file_extension": ".py",
   "mimetype": "text/x-python",
   "name": "python",
   "nbconvert_exporter": "python",
   "pygments_lexer": "ipython3",
   "version": "3.8.5"
  }
 },
 "nbformat": 4,
 "nbformat_minor": 4
}
