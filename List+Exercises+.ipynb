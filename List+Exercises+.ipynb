{
 "cells": [
  {
   "cell_type": "code",
   "execution_count": 14,
   "metadata": {},
   "outputs": [
    {
     "data": {
      "text/plain": [
       "('Adam Murji',\n",
       " 'Ajinkya Patil',\n",
       " 'Akash Makkar',\n",
       " 'Alka Savani',\n",
       " 'Chloe Erazua',\n",
       " 'Dami Brown',\n",
       " 'Divya Mani Devasani',\n",
       " 'Edward Castro',\n",
       " 'Gaurav Dhuria',\n",
       " 'Gilmara Sales',\n",
       " 'Imara Dhalla',\n",
       " 'Jainam Suthar',\n",
       " 'Leul Abebe',\n",
       " 'Mehrnaz Hooshmand',\n",
       " 'Muhammad Abtasham',\n",
       " 'Olaolusubomi A.',\n",
       " 'Pray V.',\n",
       " 'Riley Pearson',\n",
       " 'Rasha E.',\n",
       " 'Pray V',\n",
       " 'Romita R.',\n",
       " 'Saloni M.',\n",
       " 'Saman A.',\n",
       " 'Santhiya P.',\n",
       " 'Sidney D',\n",
       " 'Sowjanya K.',\n",
       " 'Suganya A.',\n",
       " 'Sunint B.',\n",
       " 'Temitope O.',\n",
       " 'Tony Wang',\n",
       " 'Ulan S.',\n",
       " 'Winnie M.',\n",
       " 'Jerry',\n",
       " 'Sum Dood',\n",
       " 'Jennifer Lopez',\n",
       " 'Elon Musk',\n",
       " 'Sum Ting Wong',\n",
       " 'John Dingleberry',\n",
       " 'Speed Racer')"
      ]
     },
     "execution_count": 14,
     "metadata": {},
     "output_type": "execute_result"
    }
   ],
   "source": [
    "#Q1 Create a tuple with all participant names in the JDA program\n",
    "\n",
    "members = (\"Adam Murji\", \"Ajinkya Patil\", \"Akash Makkar\", \"Alka Savani\", \"Chloe Erazua\", \"Dami Brown\", \"Divya Mani Devasani\", \"Edward Castro\", \"Gaurav Dhuria\", \"Gilmara Sales\", \"Imara Dhalla\", \"Jainam Suthar\",\n",
    "         \"Leul Abebe\", \"Mehrnaz Hooshmand\", \"Muhammad Abtasham\", \"Olaolusubomi A.\", \"Pray V.\", \"Riley Pearson\", \"Rasha E.\", \"Pray V\", \"Romita R.\", \"Saloni M.\",\n",
    "          \"Saman A.\", \"Santhiya P.\", \"Sidney D\", \"Sowjanya K.\", \"Suganya A.\", \"Sunint B.\", \"Temitope O.\", \"Tony Wang\", \"Ulan S.\", \"Winnie M.\", \"Jerry\", \"Sum Dood\", \"Jennifer Lopez\", \"Elon Musk\", \"Sum Ting Wong\", \"John Dingleberry\", \"Speed Racer\")\n",
    "members"
   ]
  },
  {
   "cell_type": "code",
   "execution_count": 25,
   "metadata": {},
   "outputs": [
    {
     "data": {
      "text/plain": [
       "['Adam Murji',\n",
       " 'Ajinkya Patil',\n",
       " 'Akash Makkar',\n",
       " 'Alka Savani',\n",
       " 'Chloe Erazua',\n",
       " 'Dami Brown',\n",
       " 'Divya Mani Devasani',\n",
       " 'Edward Castro',\n",
       " 'Gaurav Dhuria',\n",
       " 'Gilmara Sales',\n",
       " 'Imara Dhalla',\n",
       " 'Jainam Suthar',\n",
       " 'Leul Abebe',\n",
       " 'Mehrnaz Hooshmand',\n",
       " 'Muhammad Abtasham',\n",
       " 'Olaolusubomi A.',\n",
       " 'Pray V.',\n",
       " 'Riley Pearson',\n",
       " 'Rasha E.',\n",
       " 'Pray V',\n",
       " 'Romita R.',\n",
       " 'Saloni M.',\n",
       " 'Saman A.',\n",
       " 'Santhiya P.',\n",
       " 'Sidney D',\n",
       " 'Sowjanya K.',\n",
       " 'Suganya A.',\n",
       " 'Sunint B.',\n",
       " 'Temitope O.',\n",
       " 'Tony Wang',\n",
       " 'Ulan S.',\n",
       " 'Winnie M.',\n",
       " 'Jerry',\n",
       " 'Sum Dood',\n",
       " 'Jennifer Lopez',\n",
       " 'Elon Musk',\n",
       " 'Sum Ting Wong',\n",
       " 'John Dingleberry',\n",
       " 'Speed Racer']"
      ]
     },
     "execution_count": 25,
     "metadata": {},
     "output_type": "execute_result"
    }
   ],
   "source": [
    "#Q2 Convert the tuple into a list called pps_L\n",
    "ppl = list(members)\n",
    "ppl"
   ]
  },
  {
   "cell_type": "code",
   "execution_count": 26,
   "metadata": {},
   "outputs": [
    {
     "data": {
      "text/plain": [
       "39"
      ]
     },
     "execution_count": 26,
     "metadata": {},
     "output_type": "execute_result"
    }
   ],
   "source": [
    "#Q3 What is the length of your list \n",
    "len(ppl)"
   ]
  },
  {
   "cell_type": "code",
   "execution_count": 27,
   "metadata": {},
   "outputs": [
    {
     "name": "stdout",
     "output_type": "stream",
     "text": [
      "Alka Savani\n",
      "Dami Brown\n",
      "Muhammad Abtasham\n",
      "Ulan S.\n",
      "Speed Racer\n"
     ]
    }
   ],
   "source": [
    "#Q4 Find the values stored in indexes [3],[5],[14],[30],[38]\n",
    "print(ppl[3])\n",
    "print(ppl[5])\n",
    "print(ppl[14])\n",
    "print(ppl[30])\n",
    "print(ppl[38])"
   ]
  },
  {
   "cell_type": "code",
   "execution_count": 29,
   "metadata": {},
   "outputs": [
    {
     "data": {
      "text/plain": [
       "False"
      ]
     },
     "execution_count": 29,
     "metadata": {},
     "output_type": "execute_result"
    }
   ],
   "source": [
    "#Q5 Check if \"Sarah\" is in the list\n",
    "\"Sarah\" in ppl"
   ]
  },
  {
   "cell_type": "code",
   "execution_count": 30,
   "metadata": {},
   "outputs": [
    {
     "data": {
      "text/plain": [
       "True"
      ]
     },
     "execution_count": 30,
     "metadata": {},
     "output_type": "execute_result"
    }
   ],
   "source": [
    "#Q6 Add \"Sarah\" to your list\n",
    "ppl.append(\"Sarah\")\n",
    "\n",
    "\"Sarah\" in ppl"
   ]
  },
  {
   "cell_type": "code",
   "execution_count": 31,
   "metadata": {},
   "outputs": [
    {
     "data": {
      "text/plain": [
       "False"
      ]
     },
     "execution_count": 31,
     "metadata": {},
     "output_type": "execute_result"
    }
   ],
   "source": [
    "#Q7 Check if \"Bashir\" is in the list\n",
    "\"Bashir\" in ppl"
   ]
  },
  {
   "cell_type": "code",
   "execution_count": 32,
   "metadata": {},
   "outputs": [
    {
     "data": {
      "text/plain": [
       "True"
      ]
     },
     "execution_count": 32,
     "metadata": {},
     "output_type": "execute_result"
    }
   ],
   "source": [
    "#Q9 Add \"Bashir\" to your list\n",
    "ppl.append(\"Bashir\")\n",
    "\"Bashir\" in ppl"
   ]
  },
  {
   "cell_type": "code",
   "execution_count": 33,
   "metadata": {},
   "outputs": [
    {
     "data": {
      "text/plain": [
       "39"
      ]
     },
     "execution_count": 33,
     "metadata": {},
     "output_type": "execute_result"
    }
   ],
   "source": [
    "#Q10 Find the index of the element \"Sarah\" in the list\n",
    "ppl.index(\"Sarah\")"
   ]
  },
  {
   "cell_type": "code",
   "execution_count": 34,
   "metadata": {},
   "outputs": [
    {
     "data": {
      "text/plain": [
       "'Instructor'"
      ]
     },
     "execution_count": 34,
     "metadata": {},
     "output_type": "execute_result"
    }
   ],
   "source": [
    "#Q11 Change the value of the index in Q10 from \"Sarah\" to \"Instructor\"\n",
    "ppl[39] = \"Instructor\"\n",
    "ppl[39]"
   ]
  },
  {
   "cell_type": "code",
   "execution_count": 35,
   "metadata": {},
   "outputs": [
    {
     "data": {
      "text/plain": [
       "40"
      ]
     },
     "execution_count": 35,
     "metadata": {},
     "output_type": "execute_result"
    }
   ],
   "source": [
    "#Q12 Find the index of the element \"Bashir\" in the list\n",
    "ppl.index(\"Bashir\")"
   ]
  },
  {
   "cell_type": "code",
   "execution_count": 36,
   "metadata": {},
   "outputs": [
    {
     "data": {
      "text/plain": [
       "'Peer-Mentor'"
      ]
     },
     "execution_count": 36,
     "metadata": {},
     "output_type": "execute_result"
    }
   ],
   "source": [
    "#Q13 Change the value of the index in Q12 from \"Bashir\" to \"Peer-Mentor\"\n",
    "ppl[40] = \"Peer-Mentor\"\n",
    "ppl[40]"
   ]
  },
  {
   "cell_type": "code",
   "execution_count": null,
   "metadata": {},
   "outputs": [],
   "source": []
  }
 ],
 "metadata": {
  "kernelspec": {
   "display_name": "Python 3",
   "language": "python",
   "name": "python3"
  },
  "language_info": {
   "codemirror_mode": {
    "name": "ipython",
    "version": 3
   },
   "file_extension": ".py",
   "mimetype": "text/x-python",
   "name": "python",
   "nbconvert_exporter": "python",
   "pygments_lexer": "ipython3",
   "version": "3.8.5"
  }
 },
 "nbformat": 4,
 "nbformat_minor": 4
}
