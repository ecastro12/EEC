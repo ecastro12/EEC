{
 "cells": [
  {
   "cell_type": "code",
   "execution_count": 2,
   "metadata": {},
   "outputs": [
    {
     "name": "stdout",
     "output_type": "stream",
     "text": [
      "['Python is an interpreted, high-level and general-purpose programming language.\\n', \" Python's design philosophy emphasizes code readability with its notable use of significant indentation.\\n\", ' Its language constructs and object-oriented approach aim to help programmers write clear, logical code for small and large-scale projects\\n', ' Mehrnaz']\n"
     ]
    }
   ],
   "source": [
    "# Q3:Write a Python program to append text to a file and display the text\n",
    "\n",
    "def write_file(name,content):\n",
    "    My_file= open(\"{name}.txt\".format(name= name),\"w\")\n",
    "    My_file.write(content)\n",
    "    My_file.close()\n",
    "\n",
    "content1= \"Python is an interpreted, high-level and general-purpose programming language.\\n Python's design philosophy emphasizes code readability with its notable use of significant indentation.\\n Its language constructs and object-oriented approach aim to help programmers write clear, logical code for small and large-scale projects\"\n",
    "name1 =\"x\"\n",
    "write_file(name1,content1)\n",
    "with open(\"{name}.txt\".format(name= \"x\"),\"a\") as My_file:\n",
    "    My_file.write(\"\\n Mehrnaz\")\n",
    "with open(\"x.txt\",\"r\") as My_file:\n",
    "    print(My_file.readlines())"
   ]
  },
  {
   "cell_type": "code",
   "execution_count": 4,
   "metadata": {},
   "outputs": [
    {
     "data": {
      "text/plain": [
       "[' Its language constructs and object-oriented approach aim to help programmers write clear, logical code for small and large-scale projects\\n',\n",
       " ' Mehrnaz']"
      ]
     },
     "execution_count": 4,
     "metadata": {},
     "output_type": "execute_result"
    }
   ],
   "source": [
    "# Q4: Write a Python program to read last n lines of a file\n",
    "def read_last_n_lines(name,n):\n",
    "    with open(\"{name}.txt\".format(name= name),\"r\") as My_file:\n",
    "        content_list= My_file.readlines()\n",
    "        return content_list[-n:]\n",
    "    \n",
    "read_last_n_lines(\"x\", 2)"
   ]
  },
  {
   "cell_type": "code",
   "execution_count": 5,
   "metadata": {},
   "outputs": [
    {
     "data": {
      "text/plain": [
       "\"Python is an interpreted, high-level and general-purpose programming language.\\n Python's design philosophy emphasizes code readability with its notable use of significant indentation.\\n Its language constructs and object-oriented approach aim to help programmers write clear, logical code for small and large-scale projects\\n Mehrnaz\""
      ]
     },
     "execution_count": 5,
     "metadata": {},
     "output_type": "execute_result"
    }
   ],
   "source": [
    "#Q6 Write a Python program to read a file line by line store it into a variable\n",
    "def STORE_IN_VARIABLE(name):\n",
    "    with open(\"{name}.txt\".format(name= name),\"r\") as My_file:\n",
    "        global content_list\n",
    "        content_list= My_file.read()\n",
    "        return \"content_list is the new variable\"\n",
    "STORE_IN_VARIABLE(\"x\")\n",
    "content_list"
   ]
  },
  {
   "cell_type": "code",
   "execution_count": 6,
   "metadata": {},
   "outputs": [
    {
     "data": {
      "text/plain": [
       "['general-purpose', 'object-oriented']"
      ]
     },
     "execution_count": 6,
     "metadata": {},
     "output_type": "execute_result"
    }
   ],
   "source": [
    "# Q8 Write a python program to find the longest words\n",
    "def longest_word(name):\n",
    "    with open(\"{name}.txt\".format(name= name),\"r\") as My_file:\n",
    "              words = My_file.read().split()\n",
    "    len_longest = len(max(words, key=len))\n",
    "    return [word for word in words if len(word) == len_longest]\n",
    "longest_word(\"x\")"
   ]
  },
  {
   "cell_type": "code",
   "execution_count": 7,
   "metadata": {},
   "outputs": [
    {
     "name": "stdout",
     "output_type": "stream",
     "text": [
      "Number of words in the file : Counter({'and': 3, 'code': 2, 'Python': 1, 'is': 1, 'an': 1, 'interpreted,': 1, 'high-level': 1, 'general-purpose': 1, 'programming': 1, 'language.': 1, \"Python's\": 1, 'design': 1, 'philosophy': 1, 'emphasizes': 1, 'readability': 1, 'with': 1, 'its': 1, 'notable': 1, 'use': 1, 'of': 1, 'significant': 1, 'indentation.': 1, 'Its': 1, 'language': 1, 'constructs': 1, 'object-oriented': 1, 'approach': 1, 'aim': 1, 'to': 1, 'help': 1, 'programmers': 1, 'write': 1, 'clear,': 1, 'logical': 1, 'for': 1, 'small': 1, 'large-scale': 1, 'projects': 1, 'Mehrnaz': 1})\n"
     ]
    }
   ],
   "source": [
    "#Q10  Write a Python program to count the frequency of words in a file\n",
    "from collections import Counter\n",
    "def word_count(name):\n",
    "        with open(\"{name}.txt\".format(name= name),\"r\") as My_file:\n",
    "                return Counter(My_file.read().split())\n",
    "\n",
    "print(\"Number of words in the file :\",word_count(\"x\"))"
   ]
  },
  {
   "cell_type": "code",
   "execution_count": null,
   "metadata": {},
   "outputs": [],
   "source": []
  }
 ],
 "metadata": {
  "kernelspec": {
   "display_name": "Python 3",
   "language": "python",
   "name": "python3"
  },
  "language_info": {
   "codemirror_mode": {
    "name": "ipython",
    "version": 3
   },
   "file_extension": ".py",
   "mimetype": "text/x-python",
   "name": "python",
   "nbconvert_exporter": "python",
   "pygments_lexer": "ipython3",
   "version": "3.8.5"
  }
 },
 "nbformat": 4,
 "nbformat_minor": 4
}
