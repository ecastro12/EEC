{
 "cells": [
  {
   "cell_type": "code",
   "execution_count": 70,
   "metadata": {},
   "outputs": [],
   "source": [
    "#Q1 Create a dictionary for all participants in the JDA program.\n",
    "#Keys should be the first letter in their names, Values should be their names.\n",
    "#[Hint] dic={\"l\":(Leul),\"J\":(Jerry,Jainam)........}\n",
    "\n",
    "members = [\"Adam Murji\", \"Ajinkya Patil\", \"Akash Makkar\", \"Alka Savani\", \"Chloe Erazua\", \"Dami Brown\", \"Divya Mani Devasani\", \"Edward Castro\", \"Gaurav Dhuria\", \"Gilmara Sales\", \"Imara Dhalla\", \"Jainam Suthar\",\n",
    "         \"Leul Abebe\", \"Mehrnaz Hooshmand\", \"Muhammad Abtasham\", \"Olaolusubomi A.\", \"Pray V.\", \"Riley Pearson\", \"Rasha E.\", \"Pray V\", \"Romita R.\", \"Saloni M.\",\n",
    "          \"Saman A.\", \"Santhiya P.\", \"Sidney D\", \"Sowjanya K.\", \"Suganya A.\", \"Sunint B.\", \"Temitope O.\", \"Tony Wang\", \"Ulan S.\", \"Winnie M.\", \"Jerry H.\", \"Jonathan Barker\", \"Jennifer Lopez\", \"Elon Musk\", \"Jonathan B.\", \"John Dingleberry\", \"Speed Racer\"]\n",
    "dic = {}\n",
    "key = \"AA\"\n",
    "\n",
    "counter = len(members)\n",
    "\n",
    "for i in range(counter):\n",
    "     split= members[i].rsplit()\n",
    "     key = split[0][0] + split[1][0]\n",
    "     #print(key)\n",
    "     dic.update({key:members[i]})\n",
    "        \n",
    "     if key in dic:\n",
    "        key = key + str(i)\n",
    "        dic.update({key:members[i]})\n",
    "    \n"
   ]
  },
  {
   "cell_type": "code",
   "execution_count": 55,
   "metadata": {},
   "outputs": [
    {
     "data": {
      "text/plain": [
       "dict_keys(['AM', 'AM0', 'AP', 'AP1', 'AM2', 'AS', 'AS3', 'CE', 'CE4', 'DB', 'DB5', 'DM', 'DM6', 'EC', 'EC7', 'GD', 'GD8', 'GS', 'GS9', 'ID', 'ID10', 'JS', 'JS11', 'LA', 'LA12', 'MH', 'MH13', 'MA', 'MA14', 'OA', 'OA15', 'PV', 'PV16', 'RP', 'RP17', 'RE', 'RE18', 'PV19', 'RR', 'RR20', 'SM', 'SM21', 'SA', 'SA22', 'SP', 'SP23', 'SD', 'SD24', 'SK', 'SK25', 'SA26', 'SB', 'SB27', 'TO', 'TO28', 'TW', 'TW29', 'US', 'US30', 'WM', 'WM31', 'JH', 'JH32', 'JB', 'JB33', 'JL', 'JL34', 'EM', 'EM35', 'JB36', 'JD', 'JD37', 'SR', 'SR38'])"
      ]
     },
     "execution_count": 55,
     "metadata": {},
     "output_type": "execute_result"
    }
   ],
   "source": [
    "#Q2 What are the keys of your dictionary\n",
    "dic.keys()"
   ]
  },
  {
   "cell_type": "code",
   "execution_count": 52,
   "metadata": {},
   "outputs": [
    {
     "data": {
      "text/plain": [
       "dict_values(['Akash Makkar', 'Ajinkya Patil', 'Alka Savani', 'Chloe Erazua', 'Dami Brown', 'Divya Mani Devasani', 'Edward Castro', 'Gaurav Dhuria', 'Gilmara Sales', 'Imara Dhalla', 'Jainam Suthar', 'Leul Abebe', 'Mehrnaz Hooshmand', 'Muhammad Abtasham', 'Olaolusubomi A.', 'Pray V', 'Riley Pearson', 'Rasha E.', 'Romita R.', 'Saloni M.', 'Suganya A.', 'Santhiya P.', 'Sidney D', 'Sowjanya K.', 'Sunint B.', 'Temitope O.', 'Tony Wang', 'Ulan S.', 'Winnie M.', 'Jerry H.', 'Jonathan B.', 'Jennifer Lopez', 'Elon Musk', 'John Dingleberry', 'Speed Racer'])"
      ]
     },
     "execution_count": 52,
     "metadata": {},
     "output_type": "execute_result"
    }
   ],
   "source": [
    "#Q3 What are the values of your dictionary\n",
    "dic.values()"
   ]
  },
  {
   "cell_type": "code",
   "execution_count": 69,
   "metadata": {},
   "outputs": [
    {
     "name": "stdout",
     "output_type": "stream",
     "text": [
      "Jennifer Lopez\n",
      "Imara Dhalla\n",
      "Muhammad Abtasham\n",
      "Chloe Erazua\n",
      "Akash Makkar\n"
     ]
    }
   ],
   "source": [
    "#Q4 Find participant's names that start with JL,ID,M,C,A\n",
    "print(dic.get(\"JL\"))\n",
    "print(dic.get(\"ID\"))\n",
    "print(dic.get(\"MA\"))\n",
    "print(dic.get(\"CE\"))\n",
    "print(dic.get(\"AM\"))"
   ]
  },
  {
   "cell_type": "code",
   "execution_count": 71,
   "metadata": {},
   "outputs": [],
   "source": [
    "#Q5 Add the following to your dictionary \n",
    "# Key<(K,PD)>, Value<(Kristina)>\n",
    "dic.update({\"K, PD\":\"Kristina\"})"
   ]
  },
  {
   "cell_type": "code",
   "execution_count": 72,
   "metadata": {},
   "outputs": [
    {
     "data": {
      "text/plain": [
       "75"
      ]
     },
     "execution_count": 72,
     "metadata": {},
     "output_type": "execute_result"
    }
   ],
   "source": [
    "#Q6 Find the length of your dictionary  \n",
    "len(dic)"
   ]
  },
  {
   "cell_type": "code",
   "execution_count": 74,
   "metadata": {},
   "outputs": [],
   "source": [
    "#Q7 Add the following to your dictionary \n",
    "# Key<(S,Instructor)>, Value<(Sarah)>\n",
    "dic.update({\"S, Instructor\":\"Sarah\"})"
   ]
  },
  {
   "cell_type": "code",
   "execution_count": 76,
   "metadata": {},
   "outputs": [
    {
     "data": {
      "text/plain": [
       "76"
      ]
     },
     "execution_count": 76,
     "metadata": {},
     "output_type": "execute_result"
    }
   ],
   "source": [
    "#Q8 Find the length of your dictionary \n",
    "len(dic)"
   ]
  },
  {
   "cell_type": "code",
   "execution_count": 78,
   "metadata": {},
   "outputs": [
    {
     "data": {
      "text/plain": [
       "'John Dingleberry'"
      ]
     },
     "execution_count": 78,
     "metadata": {},
     "output_type": "execute_result"
    }
   ],
   "source": [
    "#Q7 Delete the following keys from your dictionary \n",
    "#Key<(S,Instructor)>\n",
    "#Key<J>\n",
    "dic.pop(\"S, Instructor\")\n",
    "dic.pop(\"JD\")"
   ]
  },
  {
   "cell_type": "code",
   "execution_count": 79,
   "metadata": {},
   "outputs": [
    {
     "data": {
      "text/plain": [
       "74"
      ]
     },
     "execution_count": 79,
     "metadata": {},
     "output_type": "execute_result"
    }
   ],
   "source": [
    "#Q9 Find the length of your dictionary  \n",
    "len(dic)"
   ]
  },
  {
   "cell_type": "code",
   "execution_count": 93,
   "metadata": {},
   "outputs": [],
   "source": [
    "#Q10 Create a new dictionary called synonyms_dic\n",
    "synonyms_dic= {}"
   ]
  },
  {
   "cell_type": "code",
   "execution_count": 94,
   "metadata": {},
   "outputs": [],
   "source": [
    "#Q11 Add the synonyms of the following words to your dictionary \n",
    "#Bad, Good, Awesome, Cold, Easy, Hard, Big, Small\n",
    "list = [\"Bad\", \"Good\", \"Awesome\", \"Cold\", \"Easy\", \"Hard\", \"Big\", \"Small\"]\n",
    "synonyms = [\"Terrible\", \"Great\", \"Fantastic\", \"Freezing\", \"Effortless\", \"Difficult\", \"Giant\", \"Tiny\"]\n",
    "counter = len(list)\n",
    "\n",
    "for i in range(counter):\n",
    "    synonyms_dic.update({list[i]:synonyms[i]})\n",
    "\n",
    "#synonyms_dic.keys()\n",
    "#synonyms_dic.values()"
   ]
  },
  {
   "cell_type": "code",
   "execution_count": 96,
   "metadata": {},
   "outputs": [
    {
     "name": "stdout",
     "output_type": "stream",
     "text": [
      "Fantastic\n",
      "Effortless\n",
      "Tiny\n",
      "None\n"
     ]
    }
   ],
   "source": [
    "#Q12 Use your dictionary to find the synonym of the following words \n",
    "# Awesome, Easy, Small, Old\n",
    "\n",
    "print(synonyms_dic.get(\"Awesome\"))\n",
    "print(synonyms_dic.get(\"Easy\"))\n",
    "print(synonyms_dic.get(\"Small\"))\n",
    "print(synonyms_dic.get(\"Old\"))"
   ]
  },
  {
   "cell_type": "code",
   "execution_count": 98,
   "metadata": {},
   "outputs": [
    {
     "data": {
      "text/plain": [
       "{}"
      ]
     },
     "execution_count": 98,
     "metadata": {},
     "output_type": "execute_result"
    }
   ],
   "source": [
    "#Q13 Delete everything from synonyms_dic\n",
    "synonyms_dic.clear()\n",
    "synonyms_dic"
   ]
  },
  {
   "cell_type": "code",
   "execution_count": 99,
   "metadata": {},
   "outputs": [
    {
     "data": {
      "text/plain": [
       "{}"
      ]
     },
     "execution_count": 99,
     "metadata": {},
     "output_type": "execute_result"
    }
   ],
   "source": [
    "#Q14 Print all values in synonyms_dic\n",
    "synonyms_dic"
   ]
  },
  {
   "cell_type": "code",
   "execution_count": 101,
   "metadata": {},
   "outputs": [],
   "source": [
    "#Q15 Convert the below two lists into dictionary\n",
    "Keys=[\"True\",\"False\"]\n",
    "Values=[1,0]\n",
    "\n",
    "dic2 = {Keys[0]:Values[0], Keys[1]:Values[1]}"
   ]
  },
  {
   "cell_type": "code",
   "execution_count": 106,
   "metadata": {},
   "outputs": [
    {
     "data": {
      "text/plain": [
       "4480"
      ]
     },
     "execution_count": 106,
     "metadata": {},
     "output_type": "execute_result"
    }
   ],
   "source": [
    "#Q16 Sum all the values in the following dictionary\n",
    "income={'Jan':1000,'Feb':1500,'Mar':980,'April':1000}\n",
    "\n",
    "values = income.values()\n",
    "sum(values)"
   ]
  },
  {
   "cell_type": "code",
   "execution_count": 111,
   "metadata": {},
   "outputs": [
    {
     "data": {
      "text/plain": [
       "['I', 'am', 'hungry', ',', 'I', 'want', 'to', 'eat']"
      ]
     },
     "execution_count": 111,
     "metadata": {},
     "output_type": "execute_result"
    }
   ],
   "source": [
    "#Q17 Create the following dictionary encryption={10:\"hungry\", 101:\"am\", 110:\"I\", 1011:\",\" ,1101:\"eat\", 1001:\"want\", 111:\"to\"}\n",
    "# What should the the decryption of the following code \"110 101 10 1011 110 1001 111 1101\"\n",
    "\n",
    "encryption={10:\"hungry\", 101:\"am\", 110:\"I\", 1011:\",\" ,1101:\"eat\", 1001:\"want\", 111:\"to\"}\n",
    "decryption = []\n",
    "decryp_key = [110, 101, 10, 1011, 110, 1001, 111, 1101]\n",
    "counter = 0\n",
    "\n",
    "for i in range(8):\n",
    "    decryption.append(encryption.get(decryp_key[i]))\n",
    "    \n",
    "decryption\n"
   ]
  },
  {
   "cell_type": "code",
   "execution_count": null,
   "metadata": {},
   "outputs": [],
   "source": []
  }
 ],
 "metadata": {
  "kernelspec": {
   "display_name": "Python 3",
   "language": "python",
   "name": "python3"
  },
  "language_info": {
   "codemirror_mode": {
    "name": "ipython",
    "version": 3
   },
   "file_extension": ".py",
   "mimetype": "text/x-python",
   "name": "python",
   "nbconvert_exporter": "python",
   "pygments_lexer": "ipython3",
   "version": "3.8.5"
  }
 },
 "nbformat": 4,
 "nbformat_minor": 4
}
